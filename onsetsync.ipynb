{
 "cells": [
  {
   "cell_type": "markdown",
   "id": "e27e8387",
   "metadata": {},
   "source": [
    "<a href=\"https://colab.research.google.com/github/tuomaseerola/onsetsync/blob/master/onsetsync.ipynb\" target=\"_parent\"><img src=\"https://colab.research.google.com/assets/colab-badge.svg\" alt=\"Open In Colab\"/></a>"
   ]
  },
  {
   "cell_type": "markdown",
   "id": "596717f5",
   "metadata": {},
   "source": [
    "# onsetsync\n",
    "\n",
    "A Jupyter notebook with code examples in R for _onsetsync_ package by [Tuomas Eerola](https://www.durham.ac.uk/staff/tuomas-eerola/), [Music and Science Lab]() at [Durham University](https://www.durham.ac.uk).\n",
    "\n",
    "To run the code in your browser, open the file in Colab (click the icon \"Open in Colab\"). Alternatively, you can download the notebook and run it locally.\n",
    "\n",
    "File `onsetsync.ipynb` | Version `7/11/2022` |\n",
    "\n",
    "---"
   ]
  },
  {
   "cell_type": "markdown",
   "id": "6ef86a10",
   "metadata": {},
   "source": [
    "## Load libraries"
   ]
  },
  {
   "cell_type": "code",
   "execution_count": null,
   "id": "10b69811",
   "metadata": {},
   "outputs": [],
   "source": [
    "library(ggplot2,quietly = TRUE)\n",
    "library(tidyverse,quietly = TRUE)\n",
    "library(httr,quietly = TRUE)   # for reading data from online sources\n",
    "\n",
    "devtools::install_github(\"tuomaseerola/onsetsync\")\n",
    "library(onsetsync,quietly = TRUE)\n",
    "ver <- packageVersion('onsetsync')\n",
    "print(ver)"
   ]
  },
  {
   "cell_type": "markdown",
   "source": [
    "## Load data\n",
    "Dataset that comes with the package (Cuban Salsa and Son, Song 2 from IEMP corpus)"
   ],
   "metadata": {
    "collapsed": false
   }
  },
  {
   "cell_type": "code",
   "execution_count": null,
   "outputs": [],
   "source": [
    "CSS_Song2 <- onsetsync::CSS_IEMP[[2]]   # Read one song from internal data\n",
    "CSS_Song2 <- dplyr::select(CSS_Song2,Label.SD,SD,Clave,Bass,Guitar,Tres,\n",
    "                           CycleTime,Cycle,Isochronous.SD.Time) # Select some columns\n",
    "print(head(CSS_Song2),format = \"simple\",digits = 3)"
   ],
   "metadata": {
    "collapsed": false
   }
  },
  {
   "cell_type": "markdown",
   "id": "b58c9e87",
   "metadata": {},
   "source": [
    "## Load data\n",
    "Load the data directly from OSF."
   ]
  },
  {
   "cell_type": "code",
   "execution_count": null,
   "id": "a8be6573",
   "metadata": {},
   "outputs": [],
   "source": [
    "CSS_Song2_Onset <- get_OSF_csv('8a347') # Get onsets\n",
    "print(head(CSS_Song2_Onset[,1:8,]))"
   ]
  },
  {
   "cell_type": "markdown",
   "source": [
    "One needs to add annotations and calculate the isochronous beats to the data"
   ],
   "metadata": {
    "collapsed": false
   }
  },
  {
   "cell_type": "code",
   "execution_count": null,
   "id": "2a12482a",
   "metadata": {},
   "outputs": [],
   "source": [
    "CSS_Song2_Metre <- get_OSF_csv('4cdpr') # Annotations for cycles\n",
    "\n",
    "CSS_Song2_Onset <- dplyr::select(CSS_Song2_Onset,\n",
    "                                 Label.SD,SD,Clave,Bass,Guitar,Tres)\n",
    "\n",
    "CSS_Song2 <- add_annotation(df = CSS_Song2_Onset,\n",
    "                            annotation = CSS_Song2_Metre$Cycle,\n",
    "                            time = CSS_Song2_Metre$Time,\n",
    "                            reference = 'Label.SD')\n",
    "# Add isochronous beats to the data frame\n",
    "CSS_Song2 <- add_isobeats(df = CSS_Song2,\n",
    "                          instr = 'CycleTime',\n",
    "                          beat = 'SD')\n",
    "\n",
    "colnames(CSS_Song2)[9] <- 'Ann.Iso' # Rename\n",
    "# Add isochronous beats based on mean timing of guitar, tres, and clave\n",
    "\n",
    "CSS_Song2 <- add_isobeats(df = CSS_Song2,\n",
    "                          instr = c('Guitar','Tres','Clave'),\n",
    "                          beat = 'SD')\n",
    "print(head(CSS_Song2))"
   ]
  },
  {
   "cell_type": "markdown",
   "id": "f334cb4a",
   "metadata": {},
   "source": [
    "## Summarise data\n",
    "Tell us how many onsets/instruments and what are the typical IOIs (Inter Onset Intervals) between the onsets (in ms)."
   ]
  },
  {
   "cell_type": "code",
   "execution_count": null,
   "id": "4617ec70",
   "metadata": {},
   "outputs": [],
   "source": [
    "tab1 <- summarise_onsets(df = CSS_Song2,\n",
    "                         instr = c('Clave','Bass','Guitar','Tres'))\n",
    "print(tab1)"
   ]
  },
  {
   "cell_type": "markdown",
   "source": [
    "## Visualise onset structures\n",
    "Show four selected instruments and display beats using SD (Sub-Divisions)."
   ],
   "metadata": {
    "collapsed": false
   }
  },
  {
   "cell_type": "code",
   "execution_count": null,
   "outputs": [],
   "source": [
    "fig1 <- plot_by_beat(df = CSS_Song2,\n",
    "                     instr = c('Bass','Clave','Guitar','Tres'),\n",
    "                     beat = 'SD',\n",
    "                     virtual = 'Isochronous.SD.Time',\n",
    "                     pcols = 2)\n",
    "options(repr.plot.width=10, repr.plot.height=6)\n",
    "print(fig1)"
   ],
   "metadata": {
    "collapsed": false
   }
  },
  {
   "cell_type": "markdown",
   "source": [
    "## Deviation from isochrony\n",
    "As above, but add extra information that displays how much the mean onsets deviate (%) from isochronic beats."
   ],
   "metadata": {
    "collapsed": false
   }
  },
  {
   "cell_type": "code",
   "execution_count": null,
   "outputs": [],
   "source": [
    "fig2 <- plot_by_beat(df = CSS_Song2,\n",
    "                     instr = c('Bass','Tres'),\n",
    "                     beat = 'SD',\n",
    "                     virtual = 'Isochronous.SD.Time',\n",
    "                     pcols=1,\n",
    "                     griddeviations = TRUE)\n",
    "options(repr.plot.width=10, repr.plot.height=6)\n",
    "print(fig2)"
   ],
   "metadata": {
    "collapsed": false
   }
  },
  {
   "cell_type": "markdown",
   "source": [
    "## Synchrony between the instruments"
   ],
   "metadata": {
    "collapsed": false
   }
  },
  {
   "cell_type": "code",
   "execution_count": null,
   "outputs": [],
   "source": [
    "set.seed(1201) # set random seed\n",
    "N <- 100 # Let's select 100 onsets\n",
    "d1 <- sync_sample_paired(CSS_Song2,'Clave','Bass',N,1,'SD',TRUE)\n",
    "print(paste('Mean asynchrony of',round(mean(d1$asynch*1000),1),\n",
    "            'ms & standard deviation of',round(sd(d1$asynch*1000),1),'ms'))"
   ],
   "metadata": {
    "collapsed": false
   }
  },
  {
   "cell_type": "markdown",
   "source": [
    "## Visualise synchrony between the instruments"
   ],
   "metadata": {
    "collapsed": false
   }
  },
  {
   "cell_type": "code",
   "execution_count": null,
   "outputs": [],
   "source": [
    "inst <- c('Clave','Bass','Guitar','Tres') # Define instruments\n",
    "dn <- sync_execute_pairs(CSS_Song2,inst,N,10,'SD')\n",
    "print(plot_by_pair(dn))  # plot"
   ],
   "metadata": {
    "collapsed": false
   }
  },
  {
   "cell_type": "markdown",
   "source": [
    "## Descriptive Statistics of synchrony"
   ],
   "metadata": {
    "collapsed": false
   }
  },
  {
   "cell_type": "code",
   "execution_count": null,
   "outputs": [],
   "source": [
    "table3 <- data.frame(summarise_sync_by_pair(dn))\n",
    "print(knitr::kable(table3,\n",
    "                   digits = 1,\n",
    "                   caption = 'Descriptives, t-test and p-value.'))"
   ],
   "metadata": {
    "collapsed": false
   }
  },
  {
   "cell_type": "markdown",
   "source": [
    "## Classic Measures of Synchrony\n",
    "From classic literature (Rasch, 1979; 1988 Wing, 2014; Clayton et al., 2020)"
   ],
   "metadata": {
    "collapsed": false
   }
  },
  {
   "cell_type": "code",
   "execution_count": null,
   "outputs": [],
   "source": [
    "d <- sync_sample_paired(CSS_Song2,'Clave','Bass',N=0,beat = 'SD')\n",
    "s <- summarise_sync(d)\n",
    "S <- data.frame(s); St<-t(S); colnames(St) <- 'ms'\n",
    "print(St)"
   ],
   "metadata": {
    "collapsed": false
   }
  },
  {
   "cell_type": "markdown",
   "source": [
    "# Periodicity\n",
    "\n",
    "Estimate periodicity of guitar onsets"
   ],
   "metadata": {
    "collapsed": false
   }
  },
  {
   "cell_type": "code",
   "execution_count": null,
   "outputs": [],
   "source": [
    "extract <- dplyr::filter(CSS_Song2, Guitar >= 60 & Guitar < 65)\n",
    "fig10 <- gaussify_onsets(extract$Guitar, wlen = 0.2, plot = TRUE)\n",
    "options(repr.plot.width=10, repr.plot.height=3)\n",
    "print(fig10$fig)"
   ],
   "metadata": {
    "collapsed": false
   }
  },
  {
   "cell_type": "markdown",
   "source": [
    "## Calculate Periodicity\n",
    "Use autocorrelation, FFT, or **periodigram** to estimate the periodicity"
   ],
   "metadata": {
    "collapsed": false
   }
  },
  {
   "cell_type": "code",
   "execution_count": null,
   "outputs": [],
   "source": [
    "per <- periodicity(extract,instr='Guitar',freq_range=c(0.1,0.6))\n",
    "options(repr.plot.width=4, repr.plot.height=4)\n",
    "print(per$Figure)"
   ],
   "metadata": {
    "collapsed": false
   }
  },
  {
   "cell_type": "markdown",
   "source": [
    "## Summarise Periodicity\n",
    "Convenience functions to extract peak of periodicity curve.\n"
   ],
   "metadata": {
    "collapsed": false
   }
  },
  {
   "cell_type": "code",
   "execution_count": null,
   "outputs": [],
   "source": [
    "psumm <- summarise_periodicity(per$Curve)\n",
    "print(paste('Period is:', round(psumm$Per,3), 'seconds'))\n",
    "\n",
    "print(paste('In BPM:',period_to_BPM(psumm$Per*2)))"
   ],
   "metadata": {
    "collapsed": false
   }
  },
  {
   "cell_type": "markdown",
   "source": [
    "## Synchrony with other variables"
   ],
   "metadata": {
    "collapsed": false
   }
  },
  {
   "cell_type": "code",
   "execution_count": null,
   "outputs": [],
   "source": [
    "CSS_Song2 <- CSS_Song2 %>%\n",
    "  group_by(Cycle) %>%\n",
    "  mutate(Duration = max(Isochronous.SD.Time) - min(Isochronous.SD.Time))\n",
    "CSS_Song2 <- ungroup(CSS_Song2) # drop grouping structure\n",
    "\n",
    "d1 <- sync_sample_paired(df = CSS_Song2,\n",
    "                         INSTR1 = 'Clave',\n",
    "                         INSTR2 = 'Bass',\n",
    "                         N = 200,\n",
    "                         BNum = 1,\n",
    "                         beat = 'Duration')\n",
    "fig6 <- plot_by_variable(d1,\n",
    "                         meta = 'Clave-Bass Synchrony',\n",
    "                         xlab = 'Cycle duration (in s)')\n",
    "print(fig6)"
   ],
   "metadata": {
    "collapsed": false
   }
  },
  {
   "cell_type": "markdown",
   "source": [
    "## Synchrony across several performances"
   ],
   "metadata": {
    "collapsed": false
   }
  },
  {
   "cell_type": "code",
   "execution_count": null,
   "outputs": [],
   "source": [
    "corpus <- onsetsync::CSS_IEMP\n",
    "D <- sync_sample_paired(corpus,'Tres','Bass',N=0,beat='SD')\n",
    "D <- D$asynch\n",
    "D$asynch_abs <- abs(D$asynch)*1000"
   ],
   "metadata": {
    "collapsed": false
   }
  },
  {
   "cell_type": "code",
   "execution_count": null,
   "outputs": [],
   "source": [
    "fig7 <- plot_by_dataset(D,'asynch_abs','name', box = TRUE)\n",
    "print(fig7)"
   ],
   "metadata": {
    "collapsed": false
   }
  },
  {
   "cell_type": "markdown",
   "source": [
    "## Synchrony across time"
   ],
   "metadata": {
    "collapsed": false
   }
  },
  {
   "cell_type": "code",
   "execution_count": null,
   "outputs": [],
   "source": [
    "d2 <- sync_sample_paired(df = CSS_Song2,\n",
    "                         INSTR1 = 'Tres',\n",
    "                         INSTR2 = 'Bass',\n",
    "                         N = 0,\n",
    "                         beat = 'Cycle')\n",
    "tmp <- data.frame(asynch=abs(d2$asynch)*1000,Cycle=d2$beatL)\n",
    "\n",
    "fig8 <- plot_by_var_time(df = tmp,\n",
    "                         var1 = 'Cycle',\n",
    "                         var2 = 'asynch',\n",
    "                         ylabel = 'Asynchrony')\n",
    "fig8"
   ],
   "metadata": {
    "collapsed": false
   }
  }
 ],
 "metadata": {
  "kernelspec": {
   "display_name": "R",
   "language": "R",
   "name": "ir"
  },
  "language_info": {
   "codemirror_mode": "r",
   "file_extension": ".r",
   "mimetype": "text/x-r-source",
   "name": "R",
   "pygments_lexer": "r",
   "version": "4.2.0"
  }
 },
 "nbformat": 4,
 "nbformat_minor": 5
}

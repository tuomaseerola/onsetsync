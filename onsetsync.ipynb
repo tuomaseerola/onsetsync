{
 "cells": [
  {
   "cell_type": "markdown",
   "id": "e27e8387",
   "metadata": {},
   "source": [
    "<a href=\"https://colab.research.google.com/github/tuomaseerola/onsetsync/blob/master/onsetsync.ipynb\" target=\"_parent\"><img src=\"https://colab.research.google.com/assets/colab-badge.svg\" alt=\"Open In Colab\"/></a>"
   ]
  },
  {
   "cell_type": "markdown",
   "id": "596717f5",
   "metadata": {},
   "source": [
    "**Onsetsync demo as Colab notebook**\n",
    "\n",
    "A Jupyter notebook with code examples in R for [onsetsync](https://github.com/tuomaseerola/onsetsync) by [Tuomas Eerola](https://www.durham.ac.uk/staff/tuomas-eerola/), [Music and Science Lab]() at [Durham University](https://www.durham.ac.uk) and [Music and Science Lab](https://musicscience.net).\n",
    "\n",
    "To run the code in your browser, open the file in Colab (click the icon \"Open in Colab\"). Alternatively, you can download the notebook and run it locally.\n",
    "\n",
    "File `onsetsync.ipynb` | Version `9/11/2022` | [Back to Index](https://github.com/tuomaseerola/onsetsync/)\n",
    "---"
   ]
  },
  {
   "cell_type": "markdown",
   "id": "6ef86a10",
   "metadata": {},
   "source": [
    "# Load libraries"
   ]
  },
  {
   "cell_type": "code",
   "execution_count": null,
   "id": "10b69811",
   "metadata": {},
   "outputs": [],
   "source": [
    "library(ggplot2,quietly = TRUE)\n",
    "library(tidyverse,quietly = TRUE)\n",
    "\n",
    "devtools::install_github(\"tuomaseerola/onsetsync\")\n",
    "library(onsetsync,quietly = TRUE)\n",
    "ver <- packageVersion('onsetsync')\n",
    "print(ver)"
   ]
  },
  {
   "cell_type": "markdown",
   "id": "f334cb4a",
   "metadata": {},
   "source": [
    "## Load data (internal)\n",
    "\n",
    "Here we take a Cuban Son performance titled *Palo Santo* from *IEMP* dataset [@Clayton2020emr] at <https://osf.io/sfxa2/>:"
   ]
  },
  {
   "cell_type": "code",
   "execution_count": null,
   "outputs": [],
   "source": [
    "CSS_Song2 <- onsetsync::CSS_IEMP[[2]]   # Read one song from internal data\n",
    "CSS_Song2 <- dplyr::select(CSS_Song2,Label.SD,SD,Clave,Bass,Guitar,Tres,\n",
    "                           Cycle,Isochronous.SD.Time) # Select some columns\n",
    "print(head(CSS_Song2))"
   ],
   "metadata": {
    "collapsed": false
   }
  },
  {
   "cell_type": "markdown",
   "source": [
    "## Load data -- from OSF (optional)\n",
    "\n",
    "You can read data from OSF or any online repository:"
   ],
   "metadata": {
    "collapsed": false
   }
  },
  {
   "cell_type": "code",
   "execution_count": null,
   "outputs": [],
   "source": [
    "require(httr)\n",
    "CSS_Song2_Onset <- get_OSF_csv('8a347') # Get onsets\n",
    "print(head(CSS_Song2_Onset[,1:8,]))"
   ],
   "metadata": {
    "collapsed": false
   }
  },
  {
   "cell_type": "markdown",
   "source": [
    "## Summarise raw data\n",
    "Count the onsets and give an overall IOIs (difference between onsets within an instrument)."
   ],
   "metadata": {
    "collapsed": false
   }
  },
  {
   "cell_type": "code",
   "execution_count": null,
   "outputs": [],
   "source": [
    "tab1 <- summarise_onsets(df = CSS_Song2,\n",
    "                         instr = c('Clave','Bass','Guitar','Tres'))\n",
    "print(round(tab1,1))"
   ],
   "metadata": {
    "collapsed": false
   }
  },
  {
   "cell_type": "markdown",
   "source": [
    "# Visualise\n",
    "\n",
    "## Visualise onset structures"
   ],
   "metadata": {
    "collapsed": false
   }
  },
  {
   "cell_type": "code",
   "execution_count": null,
   "outputs": [],
   "source": [
    "fig1 <- plot_by_beat(df = CSS_Song2,\n",
    "                     instr = c('Bass','Clave','Guitar','Tres'),\n",
    "                     beat = 'SD',\n",
    "                     virtual = 'Isochronous.SD.Time',\n",
    "                     pcols = 2)\n",
    "options(repr.plot.width=8, repr.plot.height=5)\n",
    "print(fig1)"
   ],
   "metadata": {
    "collapsed": false
   }
  },
  {
   "cell_type": "markdown",
   "source": [
    "## Visualise deviations from isochrony\n",
    "Show the degree to which the onsets deviate fro isochronous beats."
   ],
   "metadata": {
    "collapsed": false
   }
  },
  {
   "cell_type": "code",
   "execution_count": null,
   "outputs": [],
   "source": [
    "fig2 <- plot_by_beat(df = CSS_Song2,\n",
    "                     instr = c('Bass','Tres'),\n",
    "                     beat = 'SD',\n",
    "                     virtual = 'Isochronous.SD.Time',\n",
    "                     pcols=1,\n",
    "                     griddeviations = TRUE)\n",
    "print(fig2)"
   ],
   "metadata": {
    "collapsed": false
   }
  },
  {
   "cell_type": "markdown",
   "source": [
    "## Visualise deviations across sub-beat divisions\n",
    "Maybe a simpler output for one instrument."
   ],
   "metadata": {
    "collapsed": false
   }
  },
  {
   "cell_type": "code",
   "execution_count": null,
   "outputs": [],
   "source": [
    "fig3 <- plot_by_beat(df = CSS_Song2,\n",
    "                     instr = 'Tres',\n",
    "                     beat = 'SD',\n",
    "                     virtual = 'Isochronous.SD.Time',\n",
    "                     pcols=1,\n",
    "                     griddeviations = TRUE,\n",
    "                     box = TRUE)\n",
    "print(fig3)"
   ],
   "metadata": {
    "collapsed": false
   }
  },
  {
   "cell_type": "markdown",
   "source": [
    "# Synchrony\n",
    "\n",
    "## Synchrony between two instruments\n",
    "\n",
    "To what degree are the pairs of instruments synchronised in this example? Calculation of asynchronies between parts depends on the number of comparable onsets (points at which both are playing on the \"same beat\". This will be relatively high in music with a homophonic texture, and low in an interlocking or hocketing pattern. In this genre some instruments play on most subdivisions (as with the guitar in this piece) while others are relatively sparse and may only coincide a few times per cycle. In this piece the clave plays on beats `1, 4, 7, 11, 13` while the bass starts off playing on beats `4, 5, 7, 13, 15`; thus they coincide on beats `4`, `7` and `13` on most cycles and these beats are the points at which we can calculate asynchronies. In sum, the number of joint onsets (onset occurring around the same beat) for each pair of instrument varies greatly. In order to keep the mean and standard deviations comparable, we can randomly sample the joint onsets for both instruments."
   ],
   "metadata": {
    "collapsed": false
   }
  },
  {
   "cell_type": "code",
   "execution_count": null,
   "outputs": [],
   "source": [
    "set.seed(1201) # set random seed\n",
    "N <- 100 # Let's select 100 onsets\n",
    "d1 <- sync_sample_paired(CSS_Song2,'Clave','Bass',N,1,'SD',TRUE)\n",
    "print(paste('Mean asynchrony of',round(mean(d1$asynch*1000),1),\n",
    "            'ms & standard deviation of',round(sd(d1$asynch*1000),1),'ms'))"
   ],
   "metadata": {
    "collapsed": false
   }
  },
  {
   "cell_type": "markdown",
   "source": [
    "## Visualise synchrony between instruments"
   ],
   "metadata": {
    "collapsed": false
   }
  },
  {
   "cell_type": "code",
   "execution_count": null,
   "outputs": [],
   "source": [
    "inst <- c('Clave','Bass','Guitar','Tres') # Define instruments\n",
    "dn <- sync_execute_pairs(CSS_Song2,inst,N,10,'SD')\n",
    "fig4 <- plot_by_pair(dn)  # plot\n",
    "print(fig4)"
   ],
   "metadata": {
    "collapsed": false
   }
  },
  {
   "cell_type": "markdown",
   "source": [
    "## Visualise synchrony within sub-divisions of beats"
   ],
   "metadata": {
    "collapsed": false
   }
  },
  {
   "cell_type": "code",
   "execution_count": null,
   "outputs": [],
   "source": [
    "inst <- c('Bass','Tres')\n",
    "dn2 <- sync_execute_pairs(CSS_Song2,inst,N,10,'SD')\n",
    "fig5 <- plot_by_pair(dn2,bybeat=TRUE)\n",
    "print(fig5)"
   ],
   "metadata": {
    "collapsed": false
   }
  },
  {
   "cell_type": "markdown",
   "source": [
    "## Descriptive Statistics\n"
   ],
   "metadata": {
    "collapsed": false
   }
  },
  {
   "cell_type": "code",
   "execution_count": null,
   "outputs": [],
   "source": [
    "table3 <- data.frame(summarise_sync_by_pair(dn))\n",
    "print(table3)"
   ],
   "metadata": {
    "collapsed": false
   }
  },
  {
   "cell_type": "markdown",
   "source": [
    "## Classic Measures of Synchrony\n",
    "From Rasch, 1979; Repp & Su, 2013; Wing et al, 2014: Clayton et al., 2020."
   ],
   "metadata": {
    "collapsed": false
   }
  },
  {
   "cell_type": "code",
   "execution_count": null,
   "outputs": [],
   "source": [
    "d <- sync_sample_paired(CSS_Song2,'Clave','Bass',N=0,beat = 'SD')\n",
    "s <- summarise_sync(d)\n",
    "S <- data.frame(s); St<-t(S); colnames(St) <- 'ms'\n",
    "print(St)"
   ],
   "metadata": {
    "collapsed": false
   }
  },
  {
   "cell_type": "markdown",
   "source": [
    "## Synchrony with other variables (1)\n",
    "It might be useful to explore whether synchrony is related to tempo or some other aspect of performance. The first explore the cycle duration vs synchrony."
   ],
   "metadata": {
    "collapsed": false
   }
  },
  {
   "cell_type": "code",
   "execution_count": null,
   "outputs": [],
   "source": [
    "CSS_Song2 <- CSS_Song2 %>%\n",
    "  group_by(Cycle) %>%\n",
    "  mutate(Duration = max(Isochronous.SD.Time) - min(Isochronous.SD.Time))\n",
    "CSS_Song2 <- ungroup(CSS_Song2) # drop grouping structure\n",
    "d1 <- sync_sample_paired(df = CSS_Song2,\n",
    "                         INSTR1 = 'Clave', INSTR2 = 'Bass',\n",
    "                         N = 200, BNum = 1, beat = 'Duration')\n",
    "fig6 <- plot_by_variable(d1,meta = 'Clave-Bass Synchrony',xlab = 'Cycle duration (in s)')\n",
    "print(fig6)"
   ],
   "metadata": {
    "collapsed": false
   }
  },
  {
   "cell_type": "markdown",
   "source": [
    "## Synchrony with other variables (2)\n",
    "What about tempo?"
   ],
   "metadata": {
    "collapsed": false
   }
  },
  {
   "cell_type": "code",
   "execution_count": null,
   "outputs": [],
   "source": [
    "d2 <- sync_sample_paired(CSS_Song2,'Tres','Bass',N=0,\n",
    "                         beat='Duration')\n",
    "d3 <- sync_sample_paired(CSS_Song2,'Tres','Bass',N=0,\n",
    "                         beat='Isochronous.SD.Time')\n",
    "tmp <- data.frame(asynch=d2$asynch*1000,\n",
    "                  Duration=d2$beatL,Time=d3$beatL)\n",
    "fig9 <- plot_by_var_time(df = tmp,\n",
    "                         var1 = 'Time',\n",
    "                         var2 = 'asynch',\n",
    "                         var3 = 'Duration',\n",
    "                         ylabel = 'Asynchrony (ms)')\n",
    "fig9"
   ],
   "metadata": {
    "collapsed": false
   }
  },
  {
   "cell_type": "markdown",
   "source": [
    "## Synchrony across several performances\n",
    "Although the number of datasets that are build-in is tiny now, the functions can be used across performances within a corpus format (here `CSS_IEMP` that contains five Cuban Salsa and Son performances)."
   ],
   "metadata": {
    "collapsed": false
   }
  },
  {
   "cell_type": "code",
   "execution_count": null,
   "outputs": [],
   "source": [
    "corpus <- onsetsync::CSS_IEMP  # This is a small corpus\n",
    "D <- sync_sample_paired(corpus,'Tres','Bass',N=0,beat='SD')\n",
    "D <- D$asynch\n",
    "D$asynch_abs <- abs(D$asynch)*1000\n",
    "fig7 <- plot_by_dataset(D,'asynch_abs','name', box = TRUE)\n",
    "print(fig7)"
   ],
   "metadata": {
    "collapsed": false
   }
  },
  {
   "cell_type": "markdown",
   "source": [
    "# Periodicity\n",
    "\n",
    "## Select extract (a guitar ostinato)\n",
    "This selects a short excerpt and converts the onsets to a continuous time representations (gaussified onsets)."
   ],
   "metadata": {
    "collapsed": false
   }
  },
  {
   "cell_type": "code",
   "execution_count": null,
   "outputs": [],
   "source": [
    "extract <- dplyr::filter(CSS_Song2, Guitar >= 60 & Guitar < 65)\n",
    "fig10 <- gaussify_onsets(extract$Guitar, wlen = 0.2, plot = TRUE)\n",
    "print(fig10$fig)"
   ],
   "metadata": {
    "collapsed": false
   }
  },
  {
   "cell_type": "markdown",
   "source": [
    "## Estimate periodicity\n",
    "Use autocorrelation, FFT, or smoothed FFT (AKA periodogram in R) to estimate the periodicity. Here the default is periodogram."
   ],
   "metadata": {
    "collapsed": false
   }
  },
  {
   "cell_type": "code",
   "execution_count": null,
   "outputs": [],
   "source": [
    "per <- periodicity(extract,instr='Guitar',freq_range=c(0.1,0.6))\n",
    "print(per$Figure)"
   ],
   "metadata": {
    "collapsed": false
   }
  },
  {
   "cell_type": "markdown",
   "source": [
    "## Summarise periodicity\n",
    "Convenience functions to extract peak of periodicity curve.\n"
   ],
   "metadata": {
    "collapsed": false
   }
  },
  {
   "cell_type": "code",
   "execution_count": null,
   "outputs": [],
   "source": [
    "psumm <- summarise_periodicity(per$Curve)\n",
    "print(paste('Period is:', round(psumm$Per,3), 'seconds'))"
   ],
   "metadata": {
    "collapsed": false
   }
  },
  {
   "cell_type": "markdown",
   "source": [
    "You can also convert the peak period into BPM."
   ],
   "metadata": {
    "collapsed": false
   }
  },
  {
   "cell_type": "code",
   "execution_count": null,
   "outputs": [],
   "source": [
    "print(paste('In BPM:',period_to_BPM(psumm$Per*2))) # knowing these are sub-beats\n"
   ],
   "metadata": {
    "collapsed": false
   }
  },
  {
   "cell_type": "markdown",
   "source": [
    "# Other datasets\n",
    "There are tens of hours annotated and verified onsets within IEMP datasets [https://osf.io/37fws/](https://osf.io/37fws/). Also other excellent corpora consisting of onsets exists:\n",
    "\n",
    "\n",
    "  - [CompMusic datasets at UPF: Hindustani (North India), Carnatic (South India), Turkish-makam (Turkey), Arab-Andalusian (Maghreb), and Beijing Opera (China)](https://compmusic.upf.edu/datasets)\n",
    "  - [Tap & Fiddle: Scandinavian Fiddle Tunes with Accompanying Foot-Tapping](https://zenodo.org/record/4308731)\n",
    "  - [The MAESTRO (MIDI and Audio Edited for Synchronous Tracks and Organisation)](https://magenta.tensorflow.org/datasets/maestro)\n",
    "  - [University of Rochester Multi-Modal Musical Performance](http://www2.ece.rochester.edu/projects/air/projects/URMP.html)\n",
    "  - [Carnatic Music Rhythm Dataset](http://compmusic.upf.edu/carnatic-varnam-dataset)\n"
   ],
   "metadata": {
    "collapsed": false
   }
  },
  {
   "cell_type": "markdown",
   "source": [
    "## Credits\n",
    "Thanks for **Adrian Poole** and **Simone Tarsitani** for preparing [IEMP Cuban](10.17605/osf.io/s437t) data included here.\n",
    "\n",
    "## References\n",
    "\n",
    "Clayton, M., Jakubowski, K., Eerola, T., Keller, P., Camurri, A., Volpe, G., & Alborno, P. (2020). Interpersonal entrainment in music performance: Theory, method and model. _Music Perception, 38(2)_, 136–194.\n",
    "\n",
    "Clayton, M., Tarsitani, S., Jankowsky, R., Jure, L., Leante, L., Polak, R., Poole, A., Rocamora, M., Alborno, P., Camurri, A., Eerola, T., Jacoby, N., & Jakubowski, K. (2021). The interpersonal entrainment in music performance data collection. _Empirical Musicology Review, 16(1)_, 65–84. [http://dx.doi.org/10.18061/emr.v16i1.7555](http://dx.doi.org/10.18061/emr.v16i1.7555)\n",
    "\n",
    "Rasch, R. A. (1979). Synchronization in performed ensemble music. _Acta Acustica United with Acustica, 43(2)_, 121–131.\n",
    "\n",
    "Repp, B. H., & Su, Y.-H. (2013). Sensorimotor synchronization: A review of recent research (2006–2012). _Psychonomic Bulletin & Review, 20(3)_, 403–452.\n",
    "\n",
    "Wing, A. M., Endo, S., Bradbury, A., & Vorberg, D. (2014). Optimal feedback correction in string quartet synchronization. _Journal of The Royal Society Interface, 11(93)_, 20131125.\n"
   ],
   "metadata": {
    "collapsed": false
   }
  }
 ],
 "metadata": {
  "kernelspec": {
   "display_name": "R",
   "language": "R",
   "name": "ir"
  },
  "language_info": {
   "codemirror_mode": "r",
   "file_extension": ".r",
   "mimetype": "text/x-r-source",
   "name": "R",
   "pygments_lexer": "r",
   "version": "3.6.0"
  }
 },
 "nbformat": 4,
 "nbformat_minor": 5
}

{
  "cells": [
    {
      "cell_type": "markdown",
      "id": "e27e8387",
      "metadata": {
        "id": "e27e8387"
      },
      "source": [
        "<a href=\"https://colab.research.google.com/github/tuomaseerola/onsetsync/blob/master/onsetsync.ipynb\" target=\"_parent\"><img src=\"https://colab.research.google.com/assets/colab-badge.svg\" alt=\"Open In Colab\"/></a>"
      ]
    },
    {
      "cell_type": "markdown",
      "id": "596717f5",
      "metadata": {
        "id": "596717f5"
      },
      "source": [
        "**Onsetsync demo as Colab notebook**\n",
        "\n",
        "A Jupyter notebook with code examples in R for [onsetsync](https://github.com/tuomaseerola/onsetsync) by [Tuomas Eerola](https://www.durham.ac.uk/staff/tuomas-eerola/), [Music and Science Lab]() at [Durham University](https://www.durham.ac.uk) and [Music and Science Lab](https://musicscience.net).\n",
        "\n",
        "To run the code in your browser, open the file in Colab (click the icon \"Open in Colab\"). Alternatively, you can download the notebook and run it locally.\n",
        "\n",
        "File `onsetsync.ipynb` | Version `25/1/2023` | [Back to Index](https://github.com/tuomaseerola/onsetsync/)\n",
        "---"
      ]
    },
    {
      "cell_type": "markdown",
      "id": "6ef86a10",
      "metadata": {
        "id": "6ef86a10"
      },
      "source": [
        "# Load libraries"
      ]
    },
    {
      "cell_type": "code",
      "execution_count": null,
      "id": "10b69811",
      "metadata": {
        "id": "10b69811"
      },
      "outputs": [],
      "source": [
        "library(ggplot2,quietly = TRUE)\n",
        "library(tidyverse,quietly = TRUE)\n",
        "\n",
        "devtools::install_github(\"tuomaseerola/onsetsync\")\n",
        "library(onsetsync,quietly = TRUE)\n",
        "ver <- packageVersion('onsetsync')\n",
        "print(ver)"
      ]
    },
    {
      "cell_type": "markdown",
      "id": "f334cb4a",
      "metadata": {
        "id": "f334cb4a"
      },
      "source": [
        "## Load data (internal)\n",
        "\n",
        "Here we take a Cuban Son performance titled *Palo Santo* from *IEMP* dataset [@Clayton2020emr] at <https://osf.io/sfxa2/>:"
      ]
    },
    {
      "cell_type": "code",
      "execution_count": null,
      "outputs": [],
      "source": [
        "CSS_Song2 <- onsetsync::CSS_IEMP[[2]]   # Read one song from internal data\n",
        "CSS_Song2 <- dplyr::select(CSS_Song2,Label.SD,SD,Clave,Bass,Guitar,Tres,\n",
        "                           Cycle,Isochronous.SD.Time) # Select some columns\n",
        "print(head(CSS_Song2))"
      ],
      "metadata": {
        "id": "rPPw5CRLg8Y0"
      },
      "id": "rPPw5CRLg8Y0"
    },
    {
      "cell_type": "markdown",
      "source": [
        "## Load data -- from OSF (optional)\n",
        "\n",
        "You can read data from OSF or any online repository:"
      ],
      "metadata": {
        "collapsed": false,
        "id": "8bwutnL1g8Y1"
      },
      "id": "8bwutnL1g8Y1"
    },
    {
      "cell_type": "code",
      "execution_count": null,
      "outputs": [],
      "source": [
        "require(httr)\n",
        "CSS_Song2_Onset <- get_OSF_csv('8a347') # Get onsets\n",
        "print(head(CSS_Song2_Onset[,1:8,]))"
      ],
      "metadata": {
        "id": "V0L-9bCVg8Y1"
      },
      "id": "V0L-9bCVg8Y1"
    },
    {
      "cell_type": "markdown",
      "source": [
        "## Summarise raw data\n",
        "Count the onsets and give an overall IOIs (difference between onsets within an instrument)."
      ],
      "metadata": {
        "collapsed": false,
        "id": "Gtm77ugpg8Y2"
      },
      "id": "Gtm77ugpg8Y2"
    },
    {
      "cell_type": "code",
      "execution_count": null,
      "outputs": [],
      "source": [
        "tab1 <- summarise_onsets(df = CSS_Song2,\n",
        "                         instr = c('Clave','Bass','Guitar','Tres','Isochronous.SD.Time'))\n",
        "print(round(tab1,1))"
      ],
      "metadata": {
        "id": "9DyJYC1Dg8Y2"
      },
      "id": "9DyJYC1Dg8Y2"
    },
    {
      "cell_type": "markdown",
      "source": [
        "# Visualise\n",
        "\n",
        "## Visualise onset structures"
      ],
      "metadata": {
        "collapsed": false,
        "id": "5FDusUOog8Y3"
      },
      "id": "5FDusUOog8Y3"
    },
    {
      "cell_type": "code",
      "execution_count": null,
      "outputs": [],
      "source": [
        "fig1 <- plot_by_beat(df = CSS_Song2,\n",
        "                     instr = c('Bass','Clave','Guitar','Tres'),\n",
        "                     beat = 'SD',\n",
        "                     virtual = 'Isochronous.SD.Time',\n",
        "                     pcols = 2)\n",
        "options(repr.plot.width=8, repr.plot.height=5)\n",
        "print(fig1)"
      ],
      "metadata": {
        "id": "YoMomgNlg8Y3"
      },
      "id": "YoMomgNlg8Y3"
    },
    {
      "cell_type": "markdown",
      "source": [
        "## Visualise deviations from isochrony\n",
        "Show the degree to which the onsets deviate fro isochronous beats."
      ],
      "metadata": {
        "collapsed": false,
        "id": "8q0anrHFg8Y3"
      },
      "id": "8q0anrHFg8Y3"
    },
    {
      "cell_type": "code",
      "execution_count": null,
      "outputs": [],
      "source": [
        "fig2 <- plot_by_beat(df = CSS_Song2,\n",
        "                     instr = c('Bass','Tres'),\n",
        "                     beat = 'SD',\n",
        "                     virtual = 'Isochronous.SD.Time',\n",
        "                     pcols=1,\n",
        "                     griddeviations = TRUE)\n",
        "print(fig2)"
      ],
      "metadata": {
        "id": "B9MDbnSig8Y4"
      },
      "id": "B9MDbnSig8Y4"
    },
    {
      "cell_type": "markdown",
      "source": [
        "## Visualise deviations across sub-beat divisions\n",
        "Maybe a simpler output for one instrument."
      ],
      "metadata": {
        "collapsed": false,
        "id": "RTJhgYwBg8Y4"
      },
      "id": "RTJhgYwBg8Y4"
    },
    {
      "cell_type": "code",
      "execution_count": null,
      "outputs": [],
      "source": [
        "fig3 <- plot_by_beat(df = CSS_Song2,\n",
        "                     instr = 'Tres',\n",
        "                     beat = 'SD',\n",
        "                     virtual = 'Isochronous.SD.Time',\n",
        "                     pcols=1,\n",
        "                     griddeviations = TRUE,\n",
        "                     box = TRUE)\n",
        "print(fig3)"
      ],
      "metadata": {
        "id": "wXRXT5PEg8Y4"
      },
      "id": "wXRXT5PEg8Y4"
    },
    {
      "cell_type": "markdown",
      "source": [
        "# Synchrony\n",
        "\n",
        "## Synchrony between two instruments\n",
        "\n",
        "To what degree are the pairs of instruments synchronised in this example? Calculation of asynchronies between parts depends on the number of comparable onsets (points at which both are playing on the \"same beat\". This will be relatively high in music with a homophonic texture, and low in an interlocking or hocketing pattern. In this genre some instruments play on most subdivisions (as with the guitar in this piece) while others are relatively sparse and may only coincide a few times per cycle. In this piece the clave plays on beats `1, 4, 7, 11, 13` while the bass starts off playing on beats `4, 5, 7, 13, 15`; thus they coincide on beats `4`, `7` and `13` on most cycles and these beats are the points at which we can calculate asynchronies. In sum, the number of joint onsets (onset occurring around the same beat) for each pair of instrument varies greatly. In order to keep the mean and standard deviations comparable, we can randomly sample the joint onsets for both instruments."
      ],
      "metadata": {
        "collapsed": false,
        "id": "NLd7fopdg8Y5"
      },
      "id": "NLd7fopdg8Y5"
    },
    {
      "cell_type": "code",
      "execution_count": null,
      "outputs": [],
      "source": [
        "d1 <- sync_sample_paired(CSS_Song2, instr1 = \"Guitar\", instr2 = \"Tres\", \n",
        "  beat = \"SD\")\n",
        "dplyr::summarise(data.frame(d1), \n",
        "  N = n(), Mean.ms = mean(asynch*1000), Sd.ms = sd(asynch*1000))"
      ],
      "metadata": {
        "id": "988YI0dxg8Y5"
      },
      "id": "988YI0dxg8Y5"
    },
    {
      "cell_type": "markdown",
      "source": [
        "## Visualise synchrony between instruments"
      ],
      "metadata": {
        "collapsed": false,
        "id": "Xohkuj2bg8Y5"
      },
      "id": "Xohkuj2bg8Y5"
    },
    {
      "cell_type": "code",
      "execution_count": null,
      "outputs": [],
      "source": [
        "inst <- c(\"Clave\",\"Bass\",\"Guitar\",\"Tres\")\n",
        "dn <- sync_execute_pairs(CSS_Song2, inst, beat = \"SD\")\n",
        "print(plot_by_pair(dn))"
      ],
      "metadata": {
        "id": "HanrboIug8Y5"
      },
      "id": "HanrboIug8Y5"
    },
    {
      "cell_type": "markdown",
      "source": [
        "## Visualise synchrony within sub-divisions of beats"
      ],
      "metadata": {
        "collapsed": false,
        "id": "bRdtCxNbg8Y6"
      },
      "id": "bRdtCxNbg8Y6"
    },
    {
      "cell_type": "code",
      "execution_count": null,
      "outputs": [],
      "source": [
        "dn <- sync_execute_pairs(df = CSS_Song2,\n",
        "  instruments = c(\"Guitar\", \"Tres\"),\n",
        "  beat = \"SD\")\n",
        "print(knitr::kable(summarise_sync_by_pair(dn, bybeat = TRUE),\n",
        "  digits = 2,caption = 'Asynchrony between tres and guitar \n",
        "  across beat sub-divisions.'))"
      ],
      "metadata": {
        "id": "CNLBiErEg8Y6"
      },
      "id": "CNLBiErEg8Y6"
    },
    {
      "cell_type": "markdown",
      "source": [
        "## Descriptive Statistics\n"
      ],
      "metadata": {
        "collapsed": false,
        "id": "_xh21zRpg8Y6"
      },
      "id": "_xh21zRpg8Y6"
    },
    {
      "cell_type": "code",
      "execution_count": null,
      "outputs": [],
      "source": [
        "dl <- sync_sample_paired_relative(df = CSS_Song2, \n",
        "  instr = \"Bass\", instr_ref = c(\"Guitar\",\"Bass\",\"Tres\",\"Clave\"),\n",
        "  beat = \"SD\")\n",
        "print(dl$`Mean pairwise asynchrony`)\n",
        "\n",
        "dl <- sync_sample_paired_relative(df = CSS_Song2,\n",
        "  instr = \"Clave\", instr_ref = c(\"Guitar\",\"Bass\",\"Tres\",\"Clave\"),\n",
        "  beat = \"SD\")\n",
        "print(dl$`Mean pairwise asynchrony`)"
      ],
      "metadata": {
        "id": "x7w84RJbg8Y6"
      },
      "id": "x7w84RJbg8Y6"
    },
    {
      "cell_type": "markdown",
      "source": [
        "## Classic Measures of Synchrony\n",
        "From Rasch, 1979; Repp & Su, 2013; Wing et al, 2014: Clayton et al., 2020."
      ],
      "metadata": {
        "collapsed": false,
        "id": "eMDHfwGMg8Y7"
      },
      "id": "eMDHfwGMg8Y7"
    },
    {
      "cell_type": "code",
      "execution_count": null,
      "outputs": [],
      "source": [
        "d <- sync_sample_paired(CSS_Song2,\"Clave\",\"Bass\", beat = \"SD\")\n",
        "print(t(summarise_sync(d)))"
      ],
      "metadata": {
        "id": "WVuSuTFYg8Y7"
      },
      "id": "WVuSuTFYg8Y7"
    },
    {
      "cell_type": "markdown",
      "source": [
        "## Synchrony with other variables (1)\n",
        "It might be useful to explore whether synchrony is related to tempo or some other aspect of performance. The first explore the cycle duration vs synchrony."
      ],
      "metadata": {
        "collapsed": false,
        "id": "c88ROb0Pg8Y7"
      },
      "id": "c88ROb0Pg8Y7"
    },
    {
      "cell_type": "code",
      "execution_count": null,
      "outputs": [],
      "source": [
        "CSS_Song2 <- CSS_Song2 %>%\n",
        "  group_by(Cycle) %>%\n",
        "  mutate(Tempo = 240/(max(Isochronous.SD.Time) - \n",
        "                        min(Isochronous.SD.Time))) %>%\n",
        "  ungroup()\n",
        "\n",
        "d2 <- sync_sample_paired(CSS_Song2,\"Tres\",\"Guitar\", \n",
        "                         beat = \"Tempo\")\n",
        "d3 <- sync_sample_paired(CSS_Song2,\"Tres\",\"Guitar\", \n",
        "                         beat = \"Isochronous.SD.Time\")\n",
        "tmp <- data.frame(asynch = d2$asynch*1000, \n",
        "                  Tempo = d2$beatL, \n",
        "                  Time = d3$beatL)\n",
        "print(plot_by_var_time(df = tmp,\n",
        "  var1 = \"Time\",\n",
        "  var2 = \"asynch\",\n",
        "  var3 = \"Tempo\",\n",
        "  ylabel = \"Asynchrony (ms)\"))"
      ],
      "metadata": {
        "id": "ISAKUXzHg8Y7"
      },
      "id": "ISAKUXzHg8Y7"
    },
    {
      "cell_type": "markdown",
      "source": [
        "## Synchrony across several performances\n",
        "Although the number of datasets that are build-in is tiny now, the functions can be used across performances within a corpus format (here `CSS_IEMP` that contains five Cuban Salsa and Son performances)."
      ],
      "metadata": {
        "collapsed": false,
        "id": "oDnXfIi-g8Y8"
      },
      "id": "oDnXfIi-g8Y8"
    },
    {
      "cell_type": "code",
      "execution_count": null,
      "outputs": [],
      "source": [
        "corpus <- onsetsync::CSS_IEMP\n",
        "D <- sync_sample_paired(corpus,\"Guitar\",\"Tres\", beat=\"SD\")\n",
        "D <- D$asynch\n",
        "D$asynch_abs <- abs(D$asynch)*1000\n",
        "print(plot_by_dataset(D,\"asynch_abs\",\"name\", box = TRUE))"
      ],
      "metadata": {
        "id": "-iPbnj8mg8Y8"
      },
      "id": "-iPbnj8mg8Y8"
    },
    {
      "cell_type": "markdown",
      "source": [
        "# Periodicity\n",
        "\n",
        "## Select extract (a guitar ostinato)\n",
        "This selects a short excerpt and converts the onsets to a continuous time representations (gaussified onsets)."
      ],
      "metadata": {
        "collapsed": false,
        "id": "O3Dw1KXfg8Y8"
      },
      "id": "O3Dw1KXfg8Y8"
    },
    {
      "cell_type": "code",
      "execution_count": null,
      "outputs": [],
      "source": [
        "extract <- dplyr::filter(CSS_Song2, Guitar >= 60 & Guitar < 65)\n",
        "fig10 <- gaussify_onsets(extract$Guitar, wlen = 0.2, plot = TRUE)\n",
        "print(fig10$fig)"
      ],
      "metadata": {
        "id": "pGQaMPMJg8Y8"
      },
      "id": "pGQaMPMJg8Y8"
    },
    {
      "cell_type": "markdown",
      "source": [
        "## Estimate periodicity\n",
        "Use autocorrelation, FFT, or smoothed FFT (AKA periodogram in R) to estimate the periodicity. Here the default is periodogram."
      ],
      "metadata": {
        "collapsed": false,
        "id": "969wV21pg8Y8"
      },
      "id": "969wV21pg8Y8"
    },
    {
      "cell_type": "code",
      "execution_count": null,
      "outputs": [],
      "source": [
        "per <- periodicity(extract,instr='Guitar',freq_range=c(0.1,0.6))\n",
        "print(per$Figure)"
      ],
      "metadata": {
        "id": "XJK4IPpVg8Y9"
      },
      "id": "XJK4IPpVg8Y9"
    },
    {
      "cell_type": "markdown",
      "source": [
        "## Summarise periodicity\n",
        "Convenience functions to extract peak of periodicity curve.\n"
      ],
      "metadata": {
        "collapsed": false,
        "id": "uuekQpfBg8Y9"
      },
      "id": "uuekQpfBg8Y9"
    },
    {
      "cell_type": "code",
      "execution_count": null,
      "outputs": [],
      "source": [
        "psumm <- summarise_periodicity(per$Curve)\n",
        "print(paste('Period is:', round(psumm$Per,3), 'seconds'))"
      ],
      "metadata": {
        "id": "CbnZ-ctFg8Y9"
      },
      "id": "CbnZ-ctFg8Y9"
    },
    {
      "cell_type": "markdown",
      "source": [
        "You can also convert the peak period into BPM."
      ],
      "metadata": {
        "collapsed": false,
        "id": "9qaZTv4zg8Y9"
      },
      "id": "9qaZTv4zg8Y9"
    },
    {
      "cell_type": "code",
      "execution_count": null,
      "outputs": [],
      "source": [
        "PM <- summarise_periodicity(per$Curve)\n",
        "print(paste(period_to_BPM(PM$Per)/4,'BPM'))"
      ],
      "metadata": {
        "id": "fkpqIcvrg8Y9"
      },
      "id": "fkpqIcvrg8Y9"
    },
    {
      "cell_type": "markdown",
      "source": [
        "# Other datasets\n",
        "There are tens of hours annotated and verified onsets within IEMP datasets [https://osf.io/37fws/](https://osf.io/37fws/). Also other excellent corpora consisting of onsets exists:\n",
        "\n",
        "\n",
        "  - [CompMusic datasets at UPF: Hindustani (North India), Carnatic (South India), Turkish-makam (Turkey), Arab-Andalusian (Maghreb), and Beijing Opera (China)](https://compmusic.upf.edu/datasets)\n",
        "  - [Tap & Fiddle: Scandinavian Fiddle Tunes with Accompanying Foot-Tapping](https://zenodo.org/record/4308731)\n",
        "  - [The MAESTRO (MIDI and Audio Edited for Synchronous Tracks and Organisation)](https://magenta.tensorflow.org/datasets/maestro)\n",
        "  - [University of Rochester Multi-Modal Musical Performance](http://www2.ece.rochester.edu/projects/air/projects/URMP.html)\n",
        "  - [Carnatic Music Rhythm Dataset](http://compmusic.upf.edu/carnatic-varnam-dataset)\n"
      ],
      "metadata": {
        "collapsed": false,
        "id": "2DmhfnWTg8Y9"
      },
      "id": "2DmhfnWTg8Y9"
    },
    {
      "cell_type": "markdown",
      "source": [
        "## Credits\n",
        "Thanks for **Adrian Poole** and **Simone Tarsitani** for preparing [IEMP Cuban](10.17605/osf.io/s437t) data included here.\n",
        "\n",
        "## References\n",
        "\n",
        "Clayton, M., Jakubowski, K., Eerola, T., Keller, P., Camurri, A., Volpe, G., & Alborno, P. (2020). Interpersonal entrainment in music performance: Theory, method and model. _Music Perception, 38(2)_, 136–194.\n",
        "\n",
        "Clayton, M., Tarsitani, S., Jankowsky, R., Jure, L., Leante, L., Polak, R., Poole, A., Rocamora, M., Alborno, P., Camurri, A., Eerola, T., Jacoby, N., & Jakubowski, K. (2021). The interpersonal entrainment in music performance data collection. _Empirical Musicology Review, 16(1)_, 65–84. [http://dx.doi.org/10.18061/emr.v16i1.7555](http://dx.doi.org/10.18061/emr.v16i1.7555)\n",
        "\n",
        "Rasch, R. A. (1979). Synchronization in performed ensemble music. _Acta Acustica United with Acustica, 43(2)_, 121–131.\n",
        "\n",
        "Repp, B. H., & Su, Y.-H. (2013). Sensorimotor synchronization: A review of recent research (2006–2012). _Psychonomic Bulletin & Review, 20(3)_, 403–452.\n",
        "\n",
        "Wing, A. M., Endo, S., Bradbury, A., & Vorberg, D. (2014). Optimal feedback correction in string quartet synchronization. _Journal of The Royal Society Interface, 11(93)_, 20131125.\n"
      ],
      "metadata": {
        "collapsed": false,
        "id": "dTRR_wljg8Y-"
      },
      "id": "dTRR_wljg8Y-"
    }
  ],
  "metadata": {
    "kernelspec": {
      "display_name": "R",
      "language": "R",
      "name": "ir"
    },
    "language_info": {
      "codemirror_mode": "r",
      "file_extension": ".r",
      "mimetype": "text/x-r-source",
      "name": "R",
      "pygments_lexer": "r",
      "version": "3.6.0"
    },
    "colab": {
      "provenance": []
    }
  },
  "nbformat": 4,
  "nbformat_minor": 5
}